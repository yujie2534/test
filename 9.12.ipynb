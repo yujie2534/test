{
 "cells": [
  {
   "cell_type": "markdown",
   "metadata": {},
   "source": [
    "# 选择\n",
    "## 布尔类型、数值和表达式\n",
    "![](../Photo/33.png)\n",
    "- 注意：比较运算符的相等是两个等到，一个等到代表赋值\n",
    "- 在Python中可以用整型0来代表False，其他数字来代表True\n",
    "- 后面还会讲到 is 在判断语句中的用发"
   ]
  },
  {
   "cell_type": "markdown",
   "metadata": {},
   "source": [
    "## 字符串的比较使用ASCII值"
   ]
  },
  {
   "cell_type": "markdown",
   "metadata": {},
   "source": [
    "## Markdown \n",
    "- https://github.com/younghz/Markdown"
   ]
  },
  {
   "cell_type": "code",
   "execution_count": 3,
   "metadata": {},
   "outputs": [
    {
     "name": "stdout",
     "output_type": "stream",
     "text": [
      ">>24\n",
      "E\n"
     ]
    }
   ],
   "source": [
    "n=eval(input('>>'))\n",
    "if n >= 90:\n",
    "    print('A')\n",
    "elif 90> n >80:\n",
    "    print('B')\n",
    "elif 80> n >70:\n",
    "    print('C')\n",
    "elif 70> n >60:\n",
    "    print('D')\n",
    "elif  n <60: \n",
    "    print('E')"
   ]
  },
  {
   "cell_type": "markdown",
   "metadata": {},
   "source": [
    "## EP:\n",
    "- <img src=\"../Photo/34.png\"></img>\n",
    "- 输入一个数字，判断其实奇数还是偶数"
   ]
  },
  {
   "cell_type": "markdown",
   "metadata": {},
   "source": [
    "## 产生随机数字\n",
    "- 函数random.randint(a,b) 可以用来产生一个a和b之间且包括a和b的随机整数"
   ]
  },
  {
   "cell_type": "code",
   "execution_count": 6,
   "metadata": {},
   "outputs": [
    {
     "name": "stdout",
     "output_type": "stream",
     "text": [
      ">>45\n",
      "太大了\n",
      ">>23\n",
      "太大了\n",
      ">>1\n",
      "太小了\n",
      ">>23\n",
      "太大了\n",
      ">>2\n",
      "猜对了\n"
     ]
    }
   ],
   "source": [
    "import random\n",
    "random_num = random.randint(1,5)\n",
    "\n",
    "while True:\n",
    "    input_num=eval(input('>>'))\n",
    "    if input_num == random_num:\n",
    "        print('猜对了')\n",
    "        break\n",
    "    elif input_num > random_num:\n",
    "        print( '太大了')\n",
    "    elif input_num < random_num:\n",
    "        print('太小了')\n",
    "  \n"
   ]
  },
  {
   "cell_type": "markdown",
   "metadata": {},
   "source": [
    "##  其他random方法\n",
    "- random.random 返回0.0到1.0之间前闭后开区间的随机浮点\n",
    "- random.randrange(a,b) 前闭后开"
   ]
  },
  {
   "cell_type": "code",
   "execution_count": 8,
   "metadata": {},
   "outputs": [
    {
     "data": {
      "text/plain": [
       "0"
      ]
     },
     "execution_count": 8,
     "metadata": {},
     "output_type": "execute_result"
    }
   ],
   "source": [
    "import random\n",
    "random.randrange(0,10,2)"
   ]
  },
  {
   "cell_type": "markdown",
   "metadata": {},
   "source": [
    "## EP：\n",
    "- 产生两个随机整数number1和number2，然后显示给用户，使用户输入数字的和，并判定其是否正确\n",
    "- 进阶:写一个随机序号点名程序"
   ]
  },
  {
   "cell_type": "code",
   "execution_count": null,
   "metadata": {},
   "outputs": [],
   "source": [
    "n1,n2=random.randint(1,2),random.randint(1,3)\n",
    "sum_=n1+n2\n",
    "while True:\n",
    "    inpu = eval(input('>>'))\n",
    "    if inpu == sum_:\n",
    "        print('你真棒')\n",
    "        break\n",
    "    else:\n",
    "        print('加油')"
   ]
  },
  {
   "cell_type": "markdown",
   "metadata": {},
   "source": [
    "## if语句\n",
    "- 如果条件正确就执行一个单向if语句，亦即当条件为真的时候才执行if内部的语句\n",
    "- Python有很多选择语句:\n",
    "> - 单向if \n",
    "  - 双向if-else\n",
    "  - 嵌套if\n",
    "  - 多向if-elif-else\n",
    "  \n",
    "- 注意：当语句含有子语句的时候，那么一定至少要有一个缩进，也就是说如果有儿子存在，那么一定要缩进\n",
    "- 切记不可tab键和space混用，单用tab 或者 space\n",
    "- 当你输出的结果是无论if是否为真时都需要显示时，语句应该与if对齐"
   ]
  },
  {
   "cell_type": "code",
   "execution_count": 5,
   "metadata": {},
   "outputs": [
    {
     "name": "stdout",
     "output_type": "stream",
     "text": [
      ">>26\n",
      ">>好\n",
      ">>高\n",
      ">>是\n",
      "见面\n"
     ]
    }
   ],
   "source": [
    "age = eval(input('>>'))\n",
    "if age <= 30:\n",
    "    face = input('>>')\n",
    "    if face == '好':\n",
    "        收入 = input('>>')\n",
    "        if 收入 == '高':\n",
    "            公务员 = input('>>')\n",
    "            if 公务员 == '是':\n",
    "                print('见面')\n",
    "            else:\n",
    "                print('不见')\n",
    "        else:\n",
    "            print('没钱')\n",
    "    else:\n",
    "        print('丑')\n",
    "else:\n",
    "     print('老')       "
   ]
  },
  {
   "cell_type": "markdown",
   "metadata": {},
   "source": [
    "## EP：\n",
    "- 用户输入一个数字，判断其实奇数还是偶数\n",
    "- 进阶：可以查看下4.5实例研究猜生日"
   ]
  },
  {
   "cell_type": "markdown",
   "metadata": {},
   "source": [
    "## 双向if-else 语句\n",
    "- 如果条件为真，那么走if内部语句，否则走else内部语句"
   ]
  },
  {
   "cell_type": "markdown",
   "metadata": {},
   "source": [
    "## EP：\n",
    "- 产生两个随机整数number1和number2，然后显示给用户，使用户输入数字，并判定其是否正确,如果正确打印“you‘re correct”，否则打印正确错误"
   ]
  },
  {
   "cell_type": "markdown",
   "metadata": {},
   "source": [
    "## 嵌套if 和多向if-elif-else\n",
    "![](../Photo/35.png)"
   ]
  },
  {
   "cell_type": "markdown",
   "metadata": {},
   "source": [
    "## EP：\n",
    "- 提示用户输入一个年份，然后显示表示这一年的动物\n",
    "![](../Photo/36.png)\n",
    "- 计算身体质量指数的程序\n",
    "- BMI = 以千克为单位的体重除以以米为单位的身高\n",
    "![](../Photo/37.png)"
   ]
  },
  {
   "cell_type": "code",
   "execution_count": null,
   "metadata": {},
   "outputs": [],
   "source": [
    "year=eval(input('输入一个年份'))\n",
    "while True:\n",
    "    if year%12 == 0:\n",
    "        print('猴年')\n",
    "        break  \n",
    "    elif year%12 == 1:\n",
    "        print('鸡年')\n",
    "        break \n",
    "    elif year%12 == 2:\n",
    "        print('狗年')\n",
    "        break \n",
    "    elif year%12 == 3:\n",
    "        print('猪年')\n",
    "        break\n",
    "     \n",
    "    elif year%12 == 4:\n",
    "        print('鼠年')\n",
    "        break\n",
    "     \n",
    "    elif year%12 == 5:\n",
    "        print('牛年')\n",
    "        break\n",
    "      \n",
    "    elif year%12 == 6:\n",
    "        print('虎年')\n",
    "        break\n",
    "      \n",
    "    elif year%12 == 7:\n",
    "        print('兔年')\n",
    "        break\n",
    "        \n",
    "      \n",
    "    elif year%12 == 8:\n",
    "        print('龙年')\n",
    "        break\n",
    "     \n",
    "    elif year%12 == 9:\n",
    "        print('蛇年')\n",
    "        break\n",
    "        \n",
    "      \n",
    "    elif year%12 == 10:\n",
    "        print('马年')\n",
    "        break\n",
    "      \n",
    "    elif year%12 == 11:\n",
    "        print('羊年')\n",
    "        break\n",
    "     \n",
    "\n",
    "\n",
    "\n",
    "\n",
    "\n",
    "\n",
    "\n",
    "\n",
    "\n",
    "\n",
    "\n"
   ]
  },
  {
   "cell_type": "code",
   "execution_count": null,
   "metadata": {},
   "outputs": [],
   "source": [
    "BMI=tizhong / shengao"
   ]
  },
  {
   "cell_type": "markdown",
   "metadata": {},
   "source": [
    "## 逻辑运算符\n",
    "![](../Photo/38.png)"
   ]
  },
  {
   "cell_type": "markdown",
   "metadata": {},
   "source": [
    "![](../Photo/39.png)\n",
    "![](../Photo/40.png)"
   ]
  },
  {
   "cell_type": "markdown",
   "metadata": {},
   "source": [
    "## EP：\n",
    "- 判定闰年：一个年份如果能被4整除但不能被100整除，或者能被400整除，那么这个年份就是闰年\n",
    "- 提示用户输入一个年份，并返回是否是闰年\n",
    "- 提示用户输入一个数字，判断其是否为水仙花数"
   ]
  },
  {
   "cell_type": "code",
   "execution_count": 4,
   "metadata": {},
   "outputs": [
    {
     "name": "stdout",
     "output_type": "stream",
     "text": [
      "输入一个年份:2000\n",
      "2000闰年\n"
     ]
    }
   ],
   "source": [
    "year = eval(input('输入一个年份:')) \n",
    "while True:\n",
    "    if year % 4 == 0 and year % 100 != 0 or year % 400 == 0:\n",
    "        print (str(year) +  '闰年')\n",
    "        break\n",
    "    else:\n",
    "        print (str(year) +  '不是闰年')"
   ]
  },
  {
   "cell_type": "code",
   "execution_count": 5,
   "metadata": {},
   "outputs": [
    {
     "name": "stdout",
     "output_type": "stream",
     "text": [
      "输入一个数153\n",
      "153这个数是水仙花数\n"
     ]
    }
   ],
   "source": [
    "num = eval(input('输入一个数'))\n",
    "a = num//100\n",
    "b=num//10%10\n",
    "c=num%10\n",
    "if a ** 3 + b **3 + c ** 3 == num:\n",
    "    print(str(num) + '这个数是水仙花数')\n",
    "else:\n",
    "    print(str(num) + '这个数不是水仙花数')"
   ]
  },
  {
   "cell_type": "markdown",
   "metadata": {},
   "source": [
    "## 实例研究：彩票\n",
    "![](../Photo/41.png)"
   ]
  },
  {
   "cell_type": "code",
   "execution_count": 2,
   "metadata": {},
   "outputs": [
    {
     "name": "stdout",
     "output_type": "stream",
     "text": [
      "\n",
      ">>74\n",
      "没有中奖\n"
     ]
    }
   ],
   "source": [
    "import random\n",
    "random_1 = random.randint(0,9)\n",
    "random_2 = random.randint(0,9)\n",
    "random_ = str(random_1)+str(random_2)\n",
    "print()\n",
    "num = input('>>')\n",
    "if num == random_:\n",
    "    print('一等奖')\n",
    "elif (num[0] == random_[1] ) or (num[1] == random_[0] ):\n",
    "    print('二等奖')\n",
    "elif (num[0] == random_[0] ) or (num[1] == random_[0] ) or (num[0] == random_[1] ) or (num[1] == random_[1] ) :\n",
    "    print('三等奖')\n",
    "else:\n",
    "    print('没有中奖')"
   ]
  },
  {
   "cell_type": "markdown",
   "metadata": {},
   "source": [
    "# Homework\n",
    "- 1\n",
    "![](../Photo/42.png)"
   ]
  },
  {
   "cell_type": "code",
   "execution_count": 7,
   "metadata": {},
   "outputs": [
    {
     "name": "stdout",
     "output_type": "stream",
     "text": [
      ">>1,2,3\n",
      "The equation has no real roots\n"
     ]
    }
   ],
   "source": [
    "import math\n",
    "a,b,c=eval(input('>>'))\n",
    "n=b*b-4*a*c\n",
    "if n>0:\n",
    "    r1=(-b+math.sqrt(b*b-4*a*c)) / 2*a\n",
    "    r2=(-b-math.sqrt(b*b-4*a*c)) / 2*a\n",
    "\n",
    "    print(str(r1) and str(r2))\n",
    "elif n == 0:\n",
    "    print(str(r1) or str(r2))\n",
    "elif n< 0:\n",
    "    print('The equation has no real roots')\n",
    "\n",
    "    \n",
    "    "
   ]
  },
  {
   "cell_type": "markdown",
   "metadata": {},
   "source": [
    "- 2\n",
    "![](../Photo/43.png)"
   ]
  },
  {
   "cell_type": "code",
   "execution_count": 10,
   "metadata": {},
   "outputs": [
    {
     "name": "stdout",
     "output_type": "stream",
     "text": [
      "56 38\n",
      ">>94\n",
      "假\n"
     ]
    }
   ],
   "source": [
    "import random\n",
    "random_1 = random.randint(0,99)\n",
    "random_2 = random.randint(0,99)\n",
    "random_= str(random_1)+str(random_2)\n",
    "print(str(random_1),str(random_2))\n",
    "num = eval(input('>>'))\n",
    "if num == random_:\n",
    "    print('真')\n",
    "else :\n",
    "    print('假')"
   ]
  },
  {
   "cell_type": "markdown",
   "metadata": {},
   "source": [
    "- 3\n",
    "![](../Photo/44.png)"
   ]
  },
  {
   "cell_type": "code",
   "execution_count": 7,
   "metadata": {},
   "outputs": [
    {
     "name": "stdout",
     "output_type": "stream",
     "text": [
      "today is4\n",
      "the future day is ：4\n",
      "today is Thursdayand4the future day is Monday\n"
     ]
    }
   ],
   "source": [
    "day=eval(input('today is'))\n",
    "days = eval(input('the future day is ：'))\n",
    "n = day + days\n",
    "if day== 0:\n",
    "    d='Sunday'\n",
    "        \n",
    "elif day == 1:\n",
    "    d='Monday'\n",
    "elif day == 2:\n",
    "    d='Tuesday'\n",
    "elif day == 3:\n",
    "    d='Wednesday'\n",
    "elif day == 4:\n",
    "    d='Thursday'\n",
    "elif day == 5:\n",
    "    d='Friday'\n",
    "elif day == 6:\n",
    "    d='Saturday'\n",
    "if n%7 ==0:\n",
    "    print('today is '+str(d)+'and'+str(days)+'the future day is Sunday')\n",
    "elif n%7 ==1:\n",
    "    print('today is ' + str(d) +'and' + str(days) + 'the future day is Monday')\n",
    "elif n%7 ==2:\n",
    "    print('today is ' + str(d) +'and' + str(days) + 'the future day is Tuesday')\n",
    "elif n%7 ==3: \n",
    "    print('today is ' + str(d) +'and' + str(days) + 'the future day is Wednesday')\n",
    "elif n%7 ==4:\n",
    "    print('today is ' + str(d) +'and' + str(days) + 'the future day is Thursday')\n",
    "elif n%7 ==5: \n",
    "    print('today is ' + str(d) +'and' + str(days) + 'the future day is Friday')\n",
    "elif n%7 ==6: \n",
    "    print('today is ' + str(d) +'and' + str(days) + 'the future day is Saturday')"
   ]
  },
  {
   "cell_type": "markdown",
   "metadata": {},
   "source": [
    "- 4\n",
    "![](../Photo/45.png)"
   ]
  },
  {
   "cell_type": "code",
   "execution_count": 27,
   "metadata": {},
   "outputs": [
    {
     "name": "stdout",
     "output_type": "stream",
     "text": [
      ">>14,14,47\n"
     ]
    },
    {
     "data": {
      "text/plain": [
       "[14, 14, 47]"
      ]
     },
     "execution_count": 27,
     "metadata": {},
     "output_type": "execute_result"
    }
   ],
   "source": [
    "x,y,z=eval(input('>>'))\n",
    "sorted([x,y,z])"
   ]
  },
  {
   "cell_type": "markdown",
   "metadata": {},
   "source": [
    "- 5\n",
    "![](../Photo/46.png)"
   ]
  },
  {
   "cell_type": "code",
   "execution_count": 12,
   "metadata": {},
   "outputs": [
    {
     "name": "stdout",
     "output_type": "stream",
     "text": [
      "Enter weight  and price for package 1 :4,1\n",
      "Enter weight  and price for package 2 :4,1\n",
      "package 1  has the better price \n"
     ]
    }
   ],
   "source": [
    "weight1,price1= eval(input('Enter weight  and price for package 1 :'))\n",
    "weight2,price2= eval(input('Enter weight  and price for package 2 :'))\n",
    "meijin1 = price1 / weight1\n",
    "meijin2 = price2 / weight2\n",
    "if meijin1 > meijin2:\n",
    "    print('package 2  has the better price' )\n",
    "else:\n",
    "    print('package 1  has the better price ')\n",
    "\n",
    "\n"
   ]
  },
  {
   "cell_type": "markdown",
   "metadata": {},
   "source": [
    "- 6\n",
    "![](../Photo/47.png)"
   ]
  },
  {
   "cell_type": "code",
   "execution_count": 14,
   "metadata": {},
   "outputs": [
    {
     "name": "stdout",
     "output_type": "stream",
     "text": [
      "输入月和年4,20014\n",
      "20014 年 4 月 有 30 天\n"
     ]
    }
   ],
   "source": [
    "month,year = eval(input('输入月和年'))\n",
    "runyear =  year % 4\n",
    "if month == 1 or  month == 3 or month == 5 or month == 7 or month == 8  or month == 10 or  month == 12:\n",
    "    month1 = 31\n",
    "elif month ==4 or  month == 6 or  month == 8  or  month ==9 or month ==11 :\n",
    "    month1 =30\n",
    "elif leapyear == 0 and   month == 2:\n",
    "    month1 = 29\n",
    "else:\n",
    "    month = 28\n",
    "print(year,'年',month,'月','有',month1,'天')\n",
    "\n",
    "\n"
   ]
  },
  {
   "cell_type": "markdown",
   "metadata": {},
   "source": [
    "- 7\n",
    "![](../Photo/48.png)"
   ]
  },
  {
   "cell_type": "code",
   "execution_count": 3,
   "metadata": {},
   "outputs": [
    {
     "name": "stdout",
     "output_type": "stream",
     "text": [
      "输入1或0（0为正面，1为反面）：1\n",
      "猜错了\n"
     ]
    }
   ],
   "source": [
    "a=eval(input('输入1或0（0为正面，1为反面）：'))\n",
    "import random\n",
    "d=random.randint(0,1) \n",
    "if a==d:\n",
    "    print('猜对了')\n",
    "elif a!=d:\n",
    "     print('猜错了')"
   ]
  },
  {
   "cell_type": "markdown",
   "metadata": {},
   "source": [
    "- 8\n",
    "![](../Photo/49.png)"
   ]
  },
  {
   "cell_type": "code",
   "execution_count": 9,
   "metadata": {},
   "outputs": [
    {
     "name": "stdout",
     "output_type": "stream",
     "text": [
      "输入0或1或2：2\n"
     ]
    }
   ],
   "source": [
    "import random\n",
    "n=eval(input('输入0或1或2：'))\n",
    "random_=random.randint(0,3) \n",
    "if random_==n:\n",
    "    print('DOGFALL')\n",
    "elif n==0 and random_==1:\n",
    "     print('LOSE')\n",
    "elif n==0 and random_==2:\n",
    "     print('WIN')\n",
    "elif n==1 and random_==0:\n",
    "     print('WIN')\n",
    "elif n==1 and random_==2:\n",
    "     print('LOSE')\n",
    "elif n==2 and random_==1:\n",
    "     print('WIN')\n",
    "elif n==2 and random_==0:\n",
    "     print('LOSE')"
   ]
  },
  {
   "cell_type": "markdown",
   "metadata": {},
   "source": [
    "- 9\n",
    "![](../Photo/50.png)"
   ]
  },
  {
   "cell_type": "code",
   "execution_count": null,
   "metadata": {},
   "outputs": [],
   "source": [
    "y=eval(input('请输入年份：'))\n",
    "m=eval(input('请输入月份：'))\n",
    "q=eval(input('请输入天数：'))\n",
    "j=y//100//1\n",
    "k=y%100\n",
    "if m==1:\n",
    "    m=13\n",
    "elif m==2:\n",
    "    m=14\n",
    "h=(q+(26*(m+1))/10//1+k+k/4//1+j/4//1+5*j)%7\n",
    "print(round(h))"
   ]
  },
  {
   "cell_type": "markdown",
   "metadata": {},
   "source": [
    "- 10\n",
    "![](../Photo/51.png)"
   ]
  },
  {
   "cell_type": "code",
   "execution_count": 17,
   "metadata": {},
   "outputs": [
    {
     "name": "stdout",
     "output_type": "stream",
     "text": [
      "The card you picked is the Jack of 红桃\n"
     ]
    }
   ],
   "source": [
    "import random\n",
    "daxiao=['Ace',2,3,4,5,6,7,8,9,10,'Jack','Queen','King']\n",
    "A=random.randint(0,len(daxiao)-1)\n",
    "yanse=['梅花','红桃','方块','黑桃']\n",
    "B=random.randint(0,len(yanse)-1)\n",
    "print('The card you picked is the ' + str(daxiao[A]) + ' of ' + str(yanse[B]))"
   ]
  },
  {
   "cell_type": "markdown",
   "metadata": {},
   "source": [
    "- 11\n",
    "![](../Photo/52.png)"
   ]
  },
  {
   "cell_type": "code",
   "execution_count": 25,
   "metadata": {},
   "outputs": [
    {
     "name": "stdout",
     "output_type": "stream",
     "text": [
      "Enter a three-digit integer：123\n",
      "123is not a palindrome\n"
     ]
    }
   ],
   "source": [
    "x = input('Enter a three-digit integer：')\n",
    "if x[0] == x[2] :\n",
    "    print(str(x)+'is a palindrome')\n",
    "else:\n",
    "    print(str(x)+'is not a palindrome')"
   ]
  },
  {
   "cell_type": "markdown",
   "metadata": {},
   "source": [
    "- 12\n",
    "![](../Photo/53.png)"
   ]
  },
  {
   "cell_type": "code",
   "execution_count": 11,
   "metadata": {},
   "outputs": [
    {
     "name": "stdout",
     "output_type": "stream",
     "text": [
      "Enter three adges:1,1,1\n",
      "The perimeter is 3\n"
     ]
    }
   ],
   "source": [
    "lenght1,lenght2,lenght3, =eval(input('Enter three adges:'))\n",
    "perimeter = lenght1 + lenght2 + lenght3\n",
    "if   lenght1 + lenght2 > lenght3 and   lenght1 + lenght3 > lenght2 and lenght2 + lenght3 > lenght1:\n",
    "    print('The perimeter is',perimeter)\n",
    "else:\n",
    "    print('The perimeter invalid')"
   ]
  },
  {
   "cell_type": "code",
   "execution_count": null,
   "metadata": {},
   "outputs": [],
   "source": []
  }
 ],
 "metadata": {
  "kernelspec": {
   "display_name": "Python 3",
   "language": "python",
   "name": "python3"
  },
  "language_info": {
   "codemirror_mode": {
    "name": "ipython",
    "version": 3
   },
   "file_extension": ".py",
   "mimetype": "text/x-python",
   "name": "python",
   "nbconvert_exporter": "python",
   "pygments_lexer": "ipython3",
   "version": "3.6.4"
  }
 },
 "nbformat": 4,
 "nbformat_minor": 2
}
